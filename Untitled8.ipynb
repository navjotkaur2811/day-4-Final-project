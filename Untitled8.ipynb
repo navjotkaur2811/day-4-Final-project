{
  "nbformat": 4,
  "nbformat_minor": 0,
  "metadata": {
    "colab": {
      "name": "Untitled8.ipynb",
      "provenance": [],
      "authorship_tag": "ABX9TyNXZx/7uxJezm7irF2jYDo3",
      "include_colab_link": true
    },
    "kernelspec": {
      "name": "python3",
      "display_name": "Python 3"
    },
    "language_info": {
      "name": "python"
    }
  },
  "cells": [
    {
      "cell_type": "markdown",
      "metadata": {
        "id": "view-in-github",
        "colab_type": "text"
      },
      "source": [
        "<a href=\"https://colab.research.google.com/github/navjotkaur2811/day-4-Final-project/blob/main/Untitled8.ipynb\" target=\"_parent\"><img src=\"https://colab.research.google.com/assets/colab-badge.svg\" alt=\"Open In Colab\"/></a>"
      ]
    },
    {
      "cell_type": "code",
      "metadata": {
        "colab": {
          "base_uri": "https://localhost:8080/"
        },
        "id": "JehHEoaJmAQK",
        "outputId": "ab1a5b4d-fe84-44d6-ed60-e7d785d52524"
      },
      "source": [
        "#FINAL PROJECT\n",
        "#convert the temperature entered by the user from celsius to fahrenheit\n",
        "celsius=int(input(\"enter the temperature in celsius:\"))\n",
        "\n",
        "fahrenheit = (celsius * 9/5) + 32\n",
        "\n",
        "print(\"The converted temperature in fahrenheit is: \",fahrenheit)\n",
        "print(\"%.2f celsius = %.2f fahrenheit\" %(celsius,fahrenheit))"
      ],
      "execution_count": 2,
      "outputs": [
        {
          "output_type": "stream",
          "text": [
            "enter the temperature in celsius:52\n",
            "The converted temperature in fahrenheit is:  125.6\n",
            "52.00 celsius = 125.60 fahrenheit\n"
          ],
          "name": "stdout"
        }
      ]
    }
  ]
}