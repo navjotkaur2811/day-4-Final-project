{
  "nbformat": 4,
  "nbformat_minor": 0,
  "metadata": {
    "colab": {
      "name": "Untitled8.ipynb",
      "provenance": [],
      "authorship_tag": "ABX9TyOW4KeBGrND5agBblL1+GeE",
      "include_colab_link": true
    },
    "kernelspec": {
      "name": "python3",
      "display_name": "Python 3"
    },
    "language_info": {
      "name": "python"
    }
  },
  "cells": [
    {
      "cell_type": "markdown",
      "metadata": {
        "id": "view-in-github",
        "colab_type": "text"
      },
      "source": [
        "<a href=\"https://colab.research.google.com/github/navjotkaur2811/day-4-Final-project/blob/main/Untitled8.ipynb\" target=\"_parent\"><img src=\"https://colab.research.google.com/assets/colab-badge.svg\" alt=\"Open In Colab\"/></a>"
      ]
    },
    {
      "cell_type": "code",
      "metadata": {
        "colab": {
          "base_uri": "https://localhost:8080/"
        },
        "id": "JehHEoaJmAQK",
        "outputId": "7e80c082-b3aa-4740-8559-157d11add3f3"
      },
      "source": [
        "#FINAL PROJECT\n",
        "#convert the temperature entered by the user from celsius to fahrenheit\n",
        "celsius=int(input(\"enter the temperature in celsius:\"))\n",
        "\n",
        "fahrenheit = (celsius * 9/5) + 32\n",
        "\n",
        "print(\"The converted temperature in fahrenheit is: \",fahrenheit)"
      ],
      "execution_count": 1,
      "outputs": [
        {
          "output_type": "stream",
          "text": [
            "enter the temperature in celsius:52\n",
            "The converted temperature in fahrenheit is:  125.6\n"
          ],
          "name": "stdout"
        }
      ]
    }
  ]
}